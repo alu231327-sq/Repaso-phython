{
  "nbformat": 4,
  "nbformat_minor": 0,
  "metadata": {
    "colab": {
      "provenance": [],
      "name": "tres phyton.ipynb",
      "authorship_tag": "ABX9TyMM7loEEDfx4qYqJaidveyJ",
      "include_colab_link": true
    },
    "kernelspec": {
      "name": "python3",
      "display_name": "Python 3"
    },
    "language_info": {
      "name": "python"
    }
  },
  "cells": [
    {
      "cell_type": "markdown",
      "metadata": {
        "id": "view-in-github",
        "colab_type": "text"
      },
      "source": [
        "<a href=\"https://colab.research.google.com/github/alu231327-sq/Repaso-phython/blob/main/tres_phyton.ipynb\" target=\"_parent\"><img src=\"https://colab.research.google.com/assets/colab-badge.svg\" alt=\"Open In Colab\"/></a>"
      ]
    },
    {
      "cell_type": "code",
      "execution_count": null,
      "metadata": {
        "id": "L2pHm6Kp58uv"
      },
      "outputs": [],
      "source": []
    },
    {
      "cell_type": "markdown",
      "source": [],
      "metadata": {
        "id": "Vt7fM_lM6ATx"
      }
    },
    {
      "cell_type": "markdown",
      "source": [
        "1-Realizar un programa en phyton que permite capturar 2 numeros enteros e imprima la suma , resta, multiplicacion y la divicion de ambos.\n",
        "\n",
        "2- Realiaza un programa rn python mediante el cual calcules el total de caracteres que tiene un nombre capturado desde el teclado.\n",
        "\n",
        "3-Realizar un programa en phyton que permita imprimir los 7 dias de la semana."
      ],
      "metadata": {
        "id": "LWcNIqrj6Eo_"
      }
    },
    {
      "cell_type": "code",
      "source": [
        "programa 1 - captura numeros e imprima opciones"
      ],
      "metadata": {
        "id": "u-DXkqwj7ST4"
      },
      "execution_count": null,
      "outputs": []
    },
    {
      "cell_type": "code",
      "source": [
        "print (\"programa 1 \")\n",
        "num1 = (int(input(\"captura el 1er numero: \")))\n",
        "num2 = (int(input(\"captura tu 2do numero: \")))\n",
        "sum = num1 + num2\n",
        "res = num1 - num2\n",
        "mult = num1 * num2\n",
        "div = num1 / num2\n",
        "print (\"resultados\")\n",
        "print (\" suma: \")\n",
        "print(sum)\n",
        "print (\"resta: \" )\n",
        "print (res)\n",
        "print (\"multiplicacion: \" )\n",
        "print (mult)\n",
        "print (\" divicion: \" )\n",
        "print (div)"
      ],
      "metadata": {
        "colab": {
          "base_uri": "https://localhost:8080/"
        },
        "id": "QXfEYvW27dnH",
        "outputId": "7b105b77-ee65-4e6b-998a-afb3098d81a0"
      },
      "execution_count": null,
      "outputs": [
        {
          "output_type": "stream",
          "name": "stdout",
          "text": [
            "programa 1 \n",
            "captura el 1er numero: 5\n",
            "captura tu 2do numero: 5\n",
            "resultados\n",
            " suma: \n",
            "10\n",
            "resta: \n",
            "0\n",
            "multiplicacion: \n",
            "25\n",
            " divicion: \n",
            "1.0\n"
          ]
        }
      ]
    },
    {
      "cell_type": "markdown",
      "source": [
        "programa 2 : calcular caracteres que tiene un nombre\n"
      ],
      "metadata": {
        "id": "JrrI74uN-vBn"
      }
    },
    {
      "cell_type": "code",
      "source": [
        "print(\"programa 2\")\n",
        "nombre = (input(\" captura tu nombre: \"))\n",
        "totalletras = len(nombre)\n",
        "print(\"el total de caracteres es: \",totalletras)\n",
        "\n"
      ],
      "metadata": {
        "colab": {
          "base_uri": "https://localhost:8080/"
        },
        "id": "N3YNro6U-4ld",
        "outputId": "4f608cc5-27c0-4779-ce2c-f6c4e2c49d60"
      },
      "execution_count": null,
      "outputs": [
        {
          "output_type": "stream",
          "name": "stdout",
          "text": [
            "programa 2\n",
            " captura tu nombre: gabriela\n",
            "el total de caracteres es:  8\n"
          ]
        }
      ]
    },
    {
      "cell_type": "markdown",
      "source": [
        "programa 3  imprimir los 7 dias de la semana"
      ],
      "metadata": {
        "id": "C_NKrTSt_zAh"
      }
    },
    {
      "cell_type": "code",
      "source": [
        "semana=[\"lunes\", \"martes\", \"miercoles\", \"jueves\", \"viernes\"]\n",
        "for dia in semana:\n",
        "  print (dia)"
      ],
      "metadata": {
        "colab": {
          "base_uri": "https://localhost:8080/"
        },
        "id": "3GeIqPvf_5vA",
        "outputId": "8e3e6f2f-1148-4daf-81fc-5fb020408f95"
      },
      "execution_count": null,
      "outputs": [
        {
          "output_type": "stream",
          "name": "stdout",
          "text": [
            "lunes\n",
            "martes\n",
            "miercoles\n",
            "jueves\n",
            "viernes\n"
          ]
        }
      ]
    }
  ]
}