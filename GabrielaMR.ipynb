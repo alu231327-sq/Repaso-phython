{
  "nbformat": 4,
  "nbformat_minor": 0,
  "metadata": {
    "colab": {
      "provenance": [],
      "authorship_tag": "ABX9TyMjtzul207LwXT+SX2jiMwO",
      "include_colab_link": true
    },
    "kernelspec": {
      "name": "python3",
      "display_name": "Python 3"
    },
    "language_info": {
      "name": "python"
    }
  },
  "cells": [
    {
      "cell_type": "markdown",
      "metadata": {
        "id": "view-in-github",
        "colab_type": "text"
      },
      "source": [
        "<a href=\"https://colab.research.google.com/github/alu231327-sq/Repaso-phython/blob/main/GabrielaMR.ipynb\" target=\"_parent\"><img src=\"https://colab.research.google.com/assets/colab-badge.svg\" alt=\"Open In Colab\"/></a>"
      ]
    },
    {
      "cell_type": "code",
      "execution_count": null,
      "metadata": {
        "id": "pZPOan9tz61q"
      },
      "outputs": [],
      "source": []
    },
    {
      "cell_type": "code",
      "source": [],
      "metadata": {
        "id": "Jcc9SsDG0JaN"
      },
      "execution_count": null,
      "outputs": []
    },
    {
      "cell_type": "markdown",
      "source": [
        "programa 1 en phyton para imprimir el nombre con hola mundo"
      ],
      "metadata": {
        "id": "XF6Y6wdG0KSk"
      }
    },
    {
      "cell_type": "code",
      "source": [
        "print (\"hola mundo\")\n",
        "nombrem=(input(\"captura tu nombre\"))\n",
        "print (nombre)\n"
      ],
      "metadata": {
        "colab": {
          "base_uri": "https://localhost:8080/"
        },
        "id": "pBeCS97y0XD5",
        "outputId": "0c977865-88fa-49ca-d3d7-9892e3c3567d"
      },
      "execution_count": 1,
      "outputs": [
        {
          "output_type": "stream",
          "name": "stdout",
          "text": [
            "hola mundo\n",
            "captura tu nombre gabriela\n",
            " gabriela\n"
          ]
        }
      ]
    },
    {
      "cell_type": "markdown",
      "source": [
        "programa 2 capturar tu nombre,paterno y materno e imprimirlo en pantalla"
      ],
      "metadata": {
        "id": "rDfcM9tW1ZaC"
      }
    },
    {
      "cell_type": "code",
      "source": [
        "print (\"programa 2\")\n",
        "apellidom = (input(\"captura tu apellido paterno: \"))\n",
        "apellidop = (input(\"captura tu apellido materno: \"))\n",
        "print (apellidom)\n",
        "print (apellidop)\n"
      ],
      "metadata": {
        "colab": {
          "base_uri": "https://localhost:8080/"
        },
        "id": "Kmzb1ZIo1j0I",
        "outputId": "98d2b4a0-f80c-4a36-a6fb-abd52d3477b3"
      },
      "execution_count": 4,
      "outputs": [
        {
          "output_type": "stream",
          "name": "stdout",
          "text": [
            "programa 2\n",
            "captura tu apellido paterno: marquez\n",
            "captura tu apellido materno: reyes\n",
            "marquez\n",
            "reyes\n"
          ]
        }
      ]
    }
  ]
}