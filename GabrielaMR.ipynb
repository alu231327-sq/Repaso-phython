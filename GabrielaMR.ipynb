{
  "nbformat": 4,
  "nbformat_minor": 0,
  "metadata": {
    "colab": {
      "provenance": [],
      "authorship_tag": "ABX9TyPrAQRs1cFm62qYO1C1PDmJ",
      "include_colab_link": true
    },
    "kernelspec": {
      "name": "python3",
      "display_name": "Python 3"
    },
    "language_info": {
      "name": "python"
    }
  },
  "cells": [
    {
      "cell_type": "markdown",
      "metadata": {
        "id": "view-in-github",
        "colab_type": "text"
      },
      "source": [
        "<a href=\"https://colab.research.google.com/github/alu231327-sq/Repaso-phython/blob/main/GabrielaMR.ipynb\" target=\"_parent\"><img src=\"https://colab.research.google.com/assets/colab-badge.svg\" alt=\"Open In Colab\"/></a>"
      ]
    },
    {
      "cell_type": "code",
      "execution_count": null,
      "metadata": {
        "id": "pZPOan9tz61q"
      },
      "outputs": [],
      "source": []
    },
    {
      "cell_type": "code",
      "source": [],
      "metadata": {
        "id": "Jcc9SsDG0JaN"
      },
      "execution_count": null,
      "outputs": []
    },
    {
      "cell_type": "markdown",
      "source": [
        "programa 1 en phyton para imprimir el nombre con hola mundo"
      ],
      "metadata": {
        "id": "XF6Y6wdG0KSk"
      }
    },
    {
      "cell_type": "code",
      "source": [
        "print (\"Hola mundo\")\n",
        "nombre = (input(\"Captura tu nombre: \"))\n",
        "print (nombre)"
      ],
      "metadata": {
        "id": "gLmgD_Fh4gtZ"
      },
      "execution_count": null,
      "outputs": []
    },
    {
      "cell_type": "markdown",
      "source": [
        "programa 2 capturar tu nombre,paterno y materno e imprimirlo en pantalla"
      ],
      "metadata": {
        "id": "rDfcM9tW1ZaC"
      }
    },
    {
      "cell_type": "code",
      "source": [],
      "metadata": {
        "id": "04lxKBfy4tMP"
      },
      "execution_count": null,
      "outputs": []
    },
    {
      "cell_type": "code",
      "source": [
        "print (\"programa 2\")\n",
        "nombre = (input(\"captura tu nombre: \"))\n",
        "print (nombre)\n",
        "apellidom = (input(\"captura tu apellido paterno: \"))\n",
        "apellidop = (input(\"captura tu apellido materno: \"))\n",
        "print (nombre + \" \" + apellidom + \" \" + apellidop)\n",
        "\n"
      ],
      "metadata": {
        "colab": {
          "base_uri": "https://localhost:8080/"
        },
        "id": "Kmzb1ZIo1j0I",
        "outputId": "7b1de2c1-ff4a-46af-8877-1250f9a27d38"
      },
      "execution_count": 5,
      "outputs": [
        {
          "output_type": "stream",
          "name": "stdout",
          "text": [
            "programa 2\n",
            "captura tu nombre: gabriela\n",
            "gabriela\n",
            "captura tu apellido paterno: marquez\n",
            "captura tu apellido materno: reyes\n",
            "gabriela marquez reyes\n"
          ]
        }
      ]
    }
  ]
}