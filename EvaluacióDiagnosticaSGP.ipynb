{
  "nbformat": 4,
  "nbformat_minor": 0,
  "metadata": {
    "colab": {
      "provenance": [],
      "authorship_tag": "ABX9TyN0LouqhstbfHpNBErVmRoD",
      "include_colab_link": true
    },
    "kernelspec": {
      "name": "python3",
      "display_name": "Python 3"
    },
    "language_info": {
      "name": "python"
    }
  },
  "cells": [
    {
      "cell_type": "markdown",
      "metadata": {
        "id": "view-in-github",
        "colab_type": "text"
      },
      "source": [
        "<a href=\"https://colab.research.google.com/github/alu231327-sq/Repaso-phython/blob/main/Evaluaci%C3%B3DiagnosticaSGP.ipynb\" target=\"_parent\"><img src=\"https://colab.research.google.com/assets/colab-badge.svg\" alt=\"Open In Colab\"/></a>"
      ]
    },
    {
      "cell_type": "code",
      "execution_count": null,
      "metadata": {
        "id": "gQnS-wZ8z62c"
      },
      "outputs": [],
      "source": [
        "Practica Diagnostica"
      ]
    },
    {
      "cell_type": "markdown",
      "source": [
        "Imprimir nombre,paterno y marterno"
      ],
      "metadata": {
        "id": "mUxKXyiO0cY-"
      }
    },
    {
      "cell_type": "code",
      "source": [
        "print(\"Codigo 1\")\n",
        "\n",
        "nombrep=(input(\"captura tu nomre paterno: \"))\n",
        "nombrem=(input(\"captura tu nomre materno: \"))\n",
        "apellidop=(input(\"captura tu apellido paterno: \"))\n",
        "apellidom=(input(\"captura tu apellido materno: \"))\n",
        "print(nombrep + \" \" + nombrem + \" \" + \" \" +apellidop + \" \" + apellidom)"
      ],
      "metadata": {
        "colab": {
          "base_uri": "https://localhost:8080/"
        },
        "id": "XiswqPtC0j_M",
        "outputId": "f26439d5-395e-4117-87c0-a1657d791d02"
      },
      "execution_count": 2,
      "outputs": [
        {
          "output_type": "stream",
          "name": "stdout",
          "text": [
            "Codigo 1\n",
            "captura tu nomre paterno: gabriela\n",
            "captura tu nomre materno: natalia\n",
            "captura tu apellido paterno: marquez\n",
            "captura tu apellido materno: reyes\n",
            "gabriela natalia  marquez reyes\n"
          ]
        }
      ]
    },
    {
      "cell_type": "markdown",
      "source": [
        "Codigo 2 - Captura 2 numeros decimales e imprimir suma"
      ],
      "metadata": {
        "id": "-gSWps4k2CL8"
      }
    },
    {
      "cell_type": "code",
      "source": [
        "print(\"codigo\")\n",
        "num1=(float(input(\"captura tu primer numero: \")))\n",
        "num2=(float(input(\" captura tu segundo numero: \")))\n",
        "sum = num1 + num2\n",
        "print (\"resultados\")\n",
        "print(\"suma\", sum)"
      ],
      "metadata": {
        "colab": {
          "base_uri": "https://localhost:8080/"
        },
        "id": "wJKPsEdt2MJZ",
        "outputId": "cc91080d-987a-42cf-ee61-79d430414244"
      },
      "execution_count": 3,
      "outputs": [
        {
          "output_type": "stream",
          "name": "stdout",
          "text": [
            "codigo\n",
            "captura tu primer numero: 2.5\n",
            " captura tu segundo numero: 2.5\n",
            "resultados\n",
            "suma 5.0\n"
          ]
        }
      ]
    },
    {
      "cell_type": "markdown",
      "source": [
        "Codigo 3 - calcular el area del circulo"
      ],
      "metadata": {
        "id": "lHM4S6uB3Ufk"
      }
    },
    {
      "cell_type": "code",
      "source": [
        "print(\"codigo 3\")\n",
        "num1=(float(input(\"captura el radio del circulo: \")))\n",
        "area = (3.1416 * num1) * num1\n",
        "print(\"Resultados\")\n",
        "print(\"Area del circulo: \", area)"
      ],
      "metadata": {
        "colab": {
          "base_uri": "https://localhost:8080/"
        },
        "id": "6-2qx7dK3Zud",
        "outputId": "58a4d4f5-e880-405d-df09-e7d9c1dc2a35"
      },
      "execution_count": 4,
      "outputs": [
        {
          "output_type": "stream",
          "name": "stdout",
          "text": [
            "codigo 3\n",
            "captura el radio del circulo: 5 \n",
            "Resultados\n",
            "Area del circulo:  78.54\n"
          ]
        }
      ]
    },
    {
      "cell_type": "markdown",
      "source": [
        "Codigo 4 - Ejemplo de código y ventana resultante de semestre pasado."
      ],
      "metadata": {
        "id": "t9TkTzer43Ip"
      }
    },
    {
      "cell_type": "code",
      "source": [
        "print(\"Codigo 4 - calificaciones\")\n",
        "cal1=(float(input(\"captura tu primer calificacion: \")))\n",
        "cal2=(float(input(\"captura tu segunda calificacion: \")))\n",
        "cal3=(float(input(\"captura tu tercera calificacion: \")))\n",
        "op = (cal1 + cal2 + cal3) / 3\n",
        "print(\"Resultados\")\n",
        "print(\"Tu promedio es: \",op)\n",
        "\n"
      ],
      "metadata": {
        "colab": {
          "base_uri": "https://localhost:8080/"
        },
        "id": "uydaE9SS5I_M",
        "outputId": "a4e3f200-cecd-43e1-f83c-3871d86c6aca"
      },
      "execution_count": 5,
      "outputs": [
        {
          "output_type": "stream",
          "name": "stdout",
          "text": [
            "Codigo 4 - calificaciones\n",
            "captura tu primer calificacion: 9\n",
            "captura tu segunda calificacion: 8\n",
            "captura tu tercera calificacion: 10\n",
            "Resultados\n",
            "Tu promedio es:  9.0\n"
          ]
        }
      ]
    }
  ]
}